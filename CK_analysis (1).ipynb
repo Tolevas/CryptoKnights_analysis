{
 "cells": [
  {
   "cell_type": "code",
   "execution_count": 32,
   "id": "c1a99afb-ac14-41c8-ace5-d2735d1b2197",
   "metadata": {},
   "outputs": [
    {
     "name": "stdout",
     "output_type": "stream",
     "text": [
      "                              player_id   campaign_id               created_at\n",
      "0  127d8a7e-7361-47c1-b906-80b2503df170  BEG-LOGIN-01  2022-08-18 18:32:10.202\n",
      "1  127d8a7e-7361-47c1-b906-80b2503df170  SEA-LOGIN-01  2022-08-18 18:32:10.202\n",
      "2  2f289af3-f5f7-4f76-a9b4-3d261ff9fdff  BEG-LOGIN-01  2022-07-19 23:13:22.348\n",
      "3  2f289af3-f5f7-4f76-a9b4-3d261ff9fdff  SEA-LOGIN-01  2022-07-19 23:13:22.348\n",
      "4  be0d6e0c-d4f6-4d49-a127-d175e1a9594f  BEG-LOGIN-01  2022-07-22 17:41:37.793\n"
     ]
    }
   ],
   "source": [
    "# This repository answers various CryptoKnights executive/development team questions about player retention and player growth in the CryptoKnights mobile game beta app.\n",
    "\n",
    "\n",
    "#import necessary packages\n",
    "import pandas as pd\n",
    "import numpy as np\n",
    "from matplotlib import pyplot as plt\n",
    "\n",
    "#import dataset and take a look\n",
    "daily_login = pd.read_csv('daily_login_sept25.csv')\n",
    "print(daily_login.head())"
   ]
  },
  {
   "cell_type": "code",
   "execution_count": 33,
   "id": "049ca0ed-0214-4bc0-b66a-37e033ecfa68",
   "metadata": {},
   "outputs": [
    {
     "data": {
      "text/plain": [
       "([<matplotlib.axis.XTick at 0x7fa9b4841f40>,\n",
       "  <matplotlib.axis.XTick at 0x7fa9b4841f10>,\n",
       "  <matplotlib.axis.XTick at 0x7fa9b4841df0>,\n",
       "  <matplotlib.axis.XTick at 0x7fa9b46873d0>,\n",
       "  <matplotlib.axis.XTick at 0x7fa9b4687850>,\n",
       "  <matplotlib.axis.XTick at 0x7fa9b4698070>,\n",
       "  <matplotlib.axis.XTick at 0x7fa9b4698730>],\n",
       " [Text(26, 0, 'June'),\n",
       "  Text(28, 0, 'July'),\n",
       "  Text(30, 0, 'July'),\n",
       "  Text(32, 0, 'Aug'),\n",
       "  Text(34, 0, 'Aug'),\n",
       "  Text(36, 0, 'Sept'),\n",
       "  Text(38, 0, 'Sept')])"
      ]
     },
     "execution_count": 33,
     "metadata": {},
     "output_type": "execute_result"
    },
    {
     "data": {
      "image/png": "[encoded data removed]",
      "text/plain": [
       "<Figure size 432x288 with 1 Axes>"
      ]
     },
     "metadata": {
      "needs_background": "light"
     },
     "output_type": "display_data"
    }
   ],
   "source": [
    "#Adding day, week month column to the existing data table to make later analysis easier.\n",
    "daily_login['day'] = pd.to_datetime(daily_login['created_at']).dt.day\n",
    "daily_login['week'] = pd.to_datetime(daily_login['created_at']).dt.isocalendar().week\n",
    "daily_login['month'] = pd.to_datetime(daily_login['created_at']).dt.month\n",
    "\n",
    "#Grouping the table by 'week' column so i can look at number of daily_logins per week over the course of the CryptoKnights Beta test\n",
    "login_per_week = daily_login.groupby('week')['player_id'].count().reset_index()\n",
    "\n",
    "plt.bar(login_per_week['week'], login_per_week['player_id'])\n",
    "plt.title('Logins per day (JULY)')\n",
    "plt.xlabel('Day of Month')\n",
    "plt.ylabel('Total Logins')\n",
    "plt.xticks([26, 28, 30, 32, 34, 36, 38],['June', 'July', 'July', 'Aug', 'Aug', 'Sept', 'Sept'])"
   ]
  },
  {
   "cell_type": "code",
   "execution_count": 24,
   "id": "913cc679-7436-4de1-91c2-f57beadeb68c",
   "metadata": {},
   "outputs": [
    {
     "name": "stdout",
     "output_type": "stream",
     "text": [
      "<class 'pandas.core.frame.DataFrame'>\n",
      "RangeIndex: 150 entries, 0 to 149\n",
      "Data columns (total 2 columns):\n",
      " #   Column                     Non-Null Count  Dtype \n",
      "---  ------                     --------------  ----- \n",
      " 0   chapter_id                 150 non-null    object\n",
      " 1   players_completed_chapter  150 non-null    int64 \n",
      "dtypes: int64(1), object(1)\n",
      "memory usage: 2.5+ KB\n",
      "    chapter_id  players_completed_chapter\n",
      "0      EP01-01                        677\n",
      "1      EP01-02                        585\n",
      "2      EP01-03                        535\n",
      "3      EP01-04                        498\n",
      "4      EP01-05                        475\n",
      "..         ...                        ...\n",
      "145    EP05-26                         20\n",
      "146    EP05-27                         20\n",
      "147    EP05-28                         19\n",
      "148    EP05-29                         19\n",
      "149    EP05-30                         19\n",
      "\n",
      "[150 rows x 2 columns]\n"
     ]
    },
    {
     "data": {
      "text/plain": [
       "Text(0, 0.5, 'Total Level Completions')"
      ]
     },
     "execution_count": 24,
     "metadata": {},
     "output_type": "execute_result"
    },
    {
     "data": {
      "image/png": "[encoded data removed]",
      "text/plain": [
       "<Figure size 432x288 with 1 Axes>"
      ]
     },
     "metadata": {
      "needs_background": "light"
     },
     "output_type": "display_data"
    }
   ],
   "source": [
    "#Here I visualize how many players made it through each successive stage of the campaign mode.  This helps expplain how long players play the campaign before they stop playing\n",
    "players_per_chapter = pd.read_csv('players_per_chapter.csv')\n",
    "players_per_chapter.info()\n",
    "players_per_chapter = players_per_chapter.sort_values('players_completed_chapter', ascending=False)\n",
    "print(players_per_chapter)\n",
    "\n",
    "plt.bar(players_per_chapter.chapter_id, players_per_chapter.players_completed_chapter)\n",
    "plt.title('Total Chapter Completions by Chapter')\n",
    "plt.xlabel('Levels (low to high)')\n",
    "plt.ylabel('Total Level Completions')"
   ]
  },
  {
   "cell_type": "code",
   "execution_count": 34,
   "id": "f304844d-44ab-4e93-857c-04541ba721be",
   "metadata": {},
   "outputs": [],
   "source": [
    "#here i will look through the player stats data (top 300 players by wins) \n",
    "#to analyze trends in weapon usage, win percentage, and others\n",
    "player_stats =  pd.read_csv('player_stats_sept26.csv')\n",
    "\n",
    "#there is no data in the data table on 'total_ai_matches'\n",
    "player_stats300 =  pd.read_csv('player_stats_top300.csv')\n",
    "player_stats300 = player_stats300.sort_values('total_ai_matches', ascending=False)\n",
    "\n"
   ]
  },
  {
   "cell_type": "code",
   "execution_count": 35,
   "id": "b217cbe1-ccf4-4b50-ba9a-01d814efa482",
   "metadata": {},
   "outputs": [
    {
     "name": "stdout",
     "output_type": "stream",
     "text": [
      "player_id      3031\n",
      "created_at     3031\n",
      "replay_type    3031\n",
      "dtype: int64\n",
      "player_id      0\n",
      "created_at     0\n",
      "replay_type    0\n",
      "dtype: int64\n",
      "player_id      3259\n",
      "created_at     3259\n",
      "replay_type    3259\n",
      "dtype: int64\n",
      "player_id      57\n",
      "created_at     57\n",
      "replay_type    57\n",
      "dtype: int64\n",
      "player_id      351\n",
      "created_at     351\n",
      "replay_type    351\n",
      "dtype: int64\n",
      "player_id      20\n",
      "created_at     20\n",
      "replay_type    20\n",
      "dtype: int64\n",
      "player_id      1715\n",
      "created_at     1715\n",
      "replay_type    1715\n",
      "dtype: int64\n",
      "player_id      21\n",
      "created_at     21\n",
      "replay_type    21\n",
      "dtype: int64\n",
      "player_id      1822\n",
      "created_at     1822\n",
      "replay_type    1822\n",
      "dtype: int64\n",
      "player_id      61\n",
      "created_at     61\n",
      "replay_type    61\n",
      "dtype: int64\n"
     ]
    }
   ],
   "source": [
    "#below i will be looking at the ratio of pvp to ai_match for the top 5 CK players  (top players measured by games_won)\n",
    "player1= pd.read_csv('playe1_replay_data.csv')\n",
    "\n",
    "#this player_id has the most CK games played \n",
    "player1_ai_match = player1[player1['replay_type']== 'ai_match'].count()\n",
    "player1_pvp = player1[player1['replay_type']== 'pvp'].count()\n",
    "print(player1_ai_match)\n",
    "print(player1_pvp)\n",
    "\n",
    "#2nd most games played\n",
    "player2= pd.read_csv('player2_replay_data.csv')\n",
    "player2_ai_match = player2[player2['replay_type']== 'ai_match'].count()\n",
    "player2_pvp = player2[player2['replay_type']== 'pvp'].count()\n",
    "print(player2_ai_match)\n",
    "print(player2_pvp)\n",
    "\n",
    "#3rd most games played\n",
    "player3= pd.read_csv('player3_replay_data.csv')\n",
    "player3_ai_match = player3[player3['replay_type']== 'ai_match'].count()\n",
    "player3_pvp = player3[player3['replay_type']== 'pvp'].count()\n",
    "print(player3_ai_match)\n",
    "print(player3_pvp)\n",
    "\n",
    "#4th most games played\n",
    "player4= pd.read_csv('player4_replay_data.csv')\n",
    "player4_ai_match = player4[player4['replay_type']== 'ai_match'].count()\n",
    "player4_pvp = player4[player4['replay_type']== 'pvp'].count()\n",
    "print(player4_ai_match)\n",
    "print(player4_pvp)\n",
    "\n",
    "#5th most games played\n",
    "player5= pd.read_csv('player5_replay_data.csv')\n",
    "player5_ai_match = player5[player5['replay_type']== 'ai_match'].count()\n",
    "player5_pvp = player5[player5['replay_type']== 'pvp'].count()\n",
    "print(player5_ai_match)\n",
    "print(player5_pvp)"
   ]
  },
  {
   "cell_type": "code",
   "execution_count": 42,
   "id": "de3f5a38-a799-4e57-afa8-3a792d0fa99d",
   "metadata": {},
   "outputs": [
    {
     "name": "stdout",
     "output_type": "stream",
     "text": [
      "                                 player_id  average_stamina  cards_found  \\\n",
      "230   8e38adfc-3069-46a5-8ec7-bbeb4d0327a5              0.0           90   \n",
      "1328  99d0455f-4e46-49e0-918e-fed92058219e              0.0           70   \n",
      "1363  b8d17d59-9e0e-4f5d-aa2b-02750b1bbf4c              0.0           90   \n",
      "185   85a7a533-9498-47c6-9b86-2447c5a96dd3              0.0           73   \n",
      "485   144cc5b2-47bd-4984-affe-2d63669de1af              0.0           40   \n",
      "...                                    ...              ...          ...   \n",
      "293   2652b3ec-07e7-4f39-9682-fa5e8c2f2bef              0.0            8   \n",
      "292   a547c103-fa10-4afb-ae5c-f8ffb964d033              0.0            8   \n",
      "291   6457cda1-9329-428a-8512-49ee6225f554              0.0           24   \n",
      "290   8d764fef-3ba8-4961-80cc-b06143c52205              0.0            8   \n",
      "964   6d5c8d03-e038-4b3f-8836-c0840f948c60              0.0            8   \n",
      "\n",
      "      close_call  current_consecutive_wins  damage_avoided_high  \\\n",
      "230          322                       159                20040   \n",
      "1328          68                        11                11049   \n",
      "1363          70                        12                15427   \n",
      "185           65                        34                12478   \n",
      "485           50                        10                14459   \n",
      "...          ...                       ...                  ...   \n",
      "293            0                         0                    0   \n",
      "292            0                         0                    0   \n",
      "291            0                         0                    0   \n",
      "290            0                         0                    0   \n",
      "964            0                         0                    0   \n",
      "\n",
      "      damage_done_high  flawless  games_won  great_weapon_fights  ...  \\\n",
      "230              51133       366       7299                 2348  ...   \n",
      "1328             35366       134       1381                  816  ...   \n",
      "1363             44730        87       1348                  953  ...   \n",
      "185              42897        49       1107                  930  ...   \n",
      "485              39639        54       1178                 1040  ...   \n",
      "...                ...       ...        ...                  ...  ...   \n",
      "293                  0         0          0                    0  ...   \n",
      "292                  0         0          0                    0  ...   \n",
      "291                  0         0          0                    0  ...   \n",
      "290                  0         0          0                    0  ...   \n",
      "964                  0         0          0                    0  ...   \n",
      "\n",
      "      high_consecutive_wins  lifetime_equipment_count  long_sword_fights  \\\n",
      "230                     391                       971               2586   \n",
      "1328                     95                       202                 91   \n",
      "1363                    117                       710                193   \n",
      "185                     119                       352                278   \n",
      "485                     108                        59                200   \n",
      "...                     ...                       ...                ...   \n",
      "293                       0                        96                  0   \n",
      "292                       0                        96                  0   \n",
      "291                       0                         8                  0   \n",
      "290                       0                        96                  0   \n",
      "964                       0                        24                  0   \n",
      "\n",
      "      pvp_rating_high  sword_shield_fights  total_ai_matches  total_donations  \\\n",
      "230             11360                 2651                 0               21   \n",
      "1328             5254                  566                 0               28   \n",
      "1363             5229                  321                 0                1   \n",
      "185              4381                  146                 0                0   \n",
      "485              5061                   14                 0                0   \n",
      "...               ...                  ...               ...              ...   \n",
      "293                 0                    0                 0                0   \n",
      "292                 0                    0                 0                0   \n",
      "291                 0                    0                 0                0   \n",
      "290                 0                    0                 0                0   \n",
      "964                 0                    0                 0                0   \n",
      "\n",
      "      games_total  games_lost      win%  \n",
      "230          7585         286  0.962294  \n",
      "1328         1473          92  0.937542  \n",
      "1363         1467         119  0.918882  \n",
      "185          1354         247  0.817578  \n",
      "485          1254          76  0.939394  \n",
      "...           ...         ...       ...  \n",
      "293             0           0       NaN  \n",
      "292             0           0       NaN  \n",
      "291             0           0       NaN  \n",
      "290             0           0       NaN  \n",
      "964             0           0       NaN  \n",
      "\n",
      "[1518 rows x 21 columns]\n"
     ]
    },
    {
     "data": {
      "text/plain": [
       "Text(0.5, 1.0, 'Total Games Played to Win %')"
      ]
     },
     "execution_count": 42,
     "metadata": {},
     "output_type": "execute_result"
    },
    {
     "data": {
      "image/png": "[encoded data removed]",
      "text/plain": [
       "<Figure size 432x288 with 1 Axes>"
      ]
     },
     "metadata": {
      "needs_background": "light"
     },
     "output_type": "display_data"
    }
   ],
   "source": [
    "#The CryptoKnights backend had serious data collections issues at the beginning of my tenure working with the developer team. \n",
    "#Some basic data such as how many games each player had lost and their total games fought was not included in the existing data tables.\n",
    "# This analysis uses data that does exist in the table to calculate data that isnt automatically being recorded in the database.\n",
    "\n",
    "stats = pd.read_csv('player_stats_sept26.csv')\n",
    "\n",
    "#sum great_weapon, long_sword, sword_shield gamesin order to find out how many total fights players had.\n",
    "stats['games_total'] = stats[['great_weapon_fights', 'long_sword_fights', 'sword_shield_fights']].sum(axis=1)\n",
    "#calculate the number of games_lost by each player using the newly created 'games_total' data.\n",
    "stats['games_lost'] = stats['games_total'] - stats['games_won']\n",
    "#calculate players win percentage.\n",
    "stats['win%'] = stats['games_won'] / stats['games_total']\n",
    "stats = stats.sort_values('games_total', ascending=False)\n",
    "#look at ammended data table\n",
    "print(stats)\n",
    "\n",
    "#here i will drop all rows with out any game wins. these players arent useful for our analysis \n",
    "stats= stats.drop(stats[stats['games_won']==0].index, inplace=False)\n",
    "\n",
    "plt.scatter(stats['games_total'], stats['win%'])\n",
    "plt.xlim(0, 200)\n",
    "plt.ylabel('Win %')\n",
    "plt.xlabel('Total games')\n",
    "plt.title('Total Games Played to Win %')"
   ]
  },
  {
   "cell_type": "code",
   "execution_count": 21,
   "id": "8037caac-99e7-46e2-83ea-7f4e7f25c98d",
   "metadata": {},
   "outputs": [
    {
     "data": {
      "image/png": "[encoded data removed]",
      "text/plain": [
       "<Figure size 432x288 with 1 Axes>"
      ]
     },
     "metadata": {
      "needs_background": "light"
     },
     "output_type": "display_data"
    },
    {
     "data": {
      "image/png": "[encoded data removed]",
      "text/plain": [
       "<Figure size 432x288 with 1 Axes>"
      ]
     },
     "metadata": {
      "needs_background": "light"
     },
     "output_type": "display_data"
    },
    {
     "data": {
      "image/png": "[encoded data removed]",
      "text/plain": [
       "<Figure size 432x288 with 1 Axes>"
      ]
     },
     "metadata": {
      "needs_background": "light"
     },
     "output_type": "display_data"
    }
   ],
   "source": [
    "#here ill look at players per day of the month again but this time with updated data from server\n",
    "daily_log_updated = pd.read_csv('daily_login_sept25.csv')\n",
    "daily_log_updated['month'] =  pd.to_datetime(daily_log_updated['created_at']).dt.month\n",
    "daily_log_updated['day'] =  pd.to_datetime(daily_log_updated['created_at']).dt.day\n",
    "\n",
    "daily_log_updated_july = daily_log_updated[daily_log_updated['month']==7]\n",
    "july_log_perday= daily_log_updated_july.groupby('day')['created_at'].count().reset_index()\n",
    "\n",
    "daily_log_updated_aug = daily_log_updated[daily_log_updated['month']==8]\n",
    "aug_log_perday= daily_log_updated_aug.groupby('day')['created_at'].count().reset_index()\n",
    "\n",
    "daily_log_updated_sept = daily_log_updated[daily_log_updated['month']==9]\n",
    "sept_log_perday= daily_log_updated_sept.groupby('day')['created_at'].count().reset_index()\n",
    "\n",
    "plt.bar(july_log_perday['day'], july_log_perday['created_at'])\n",
    "plt.xlabel('Days')\n",
    "plt.ylabel('Number of logins')\n",
    "plt.title('July Logins per Day')\n",
    "plt.ylim(0,500)\n",
    "plt.show()\n",
    "\n",
    "plt.bar(aug_log_perday['day'], aug_log_perday['created_at'])\n",
    "plt.xlabel('Days')\n",
    "plt.ylabel('Number of logins')\n",
    "plt.title('August Logins per Day')\n",
    "plt.ylim(0,500)\n",
    "plt.show()\n",
    "\n",
    "plt.bar(sept_log_perday['day'], sept_log_perday['created_at'])\n",
    "plt.xlabel('Days')\n",
    "plt.ylabel('Number of logins')\n",
    "plt.title('September Logins per Day')\n",
    "plt.ylim(0,500)\n",
    "plt.show()"
   ]
  }
 ],
 "metadata": {
  "kernelspec": {
   "display_name": "Python 3 (ipykernel)",
   "language": "python",
   "name": "python3"
  },
  "language_info": {
   "codemirror_mode": {
    "name": "ipython",
    "version": 3
   },
   "file_extension": ".py",
   "mimetype": "text/x-python",
   "name": "python",
   "nbconvert_exporter": "python",
   "pygments_lexer": "ipython3",
   "version": "3.9.12"
  }
 },
 "nbformat": 4,
 "nbformat_minor": 5
}
