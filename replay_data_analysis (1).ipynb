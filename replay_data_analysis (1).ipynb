{
 "cells": [
  {
   "cell_type": "code",
   "execution_count": 1,
   "id": "7ba0b3d8-5c3c-46f7-8962-2a55797befda",
   "metadata": {},
   "outputs": [
    {
     "name": "stdout",
     "output_type": "stream",
     "text": [
      "                                  player_id  round               created_at  \\\n",
      "66087  645cf3b6-76ad-453b-a8de-4f9ca5b7609b      0  2022-07-04 01:09:03.161   \n",
      "66088  645cf3b6-76ad-453b-a8de-4f9ca5b7609b      1  2022-07-04 01:10:09.680   \n",
      "66089  645cf3b6-76ad-453b-a8de-4f9ca5b7609b      2  2022-07-04 01:11:25.538   \n",
      "66066  645cf3b6-76ad-453b-a8de-4f9ca5b7609b      0  2022-07-04 01:12:57.176   \n",
      "66067  645cf3b6-76ad-453b-a8de-4f9ca5b7609b      1  2022-07-04 01:14:04.289   \n",
      "...                                     ...    ...                      ...   \n",
      "12850  98f78725-0564-4f25-809a-d061077e6190      1  2022-09-23 00:57:38.034   \n",
      "12842  98f78725-0564-4f25-809a-d061077e6190      0  2022-09-23 00:58:55.807   \n",
      "12843  98f78725-0564-4f25-809a-d061077e6190      1  2022-09-23 00:59:57.072   \n",
      "68959  b8d17d59-9e0e-4f5d-aa2b-02750b1bbf4c      0  2022-09-23 02:00:14.319   \n",
      "68960  b8d17d59-9e0e-4f5d-aa2b-02750b1bbf4c      1  2022-09-23 02:00:52.828   \n",
      "\n",
      "       round_win replay_type  \n",
      "66087          0    ai_match  \n",
      "66088          1    ai_match  \n",
      "66089          1    ai_match  \n",
      "66066          1    ai_match  \n",
      "66067          0    ai_match  \n",
      "...          ...         ...  \n",
      "12850          1    ai_match  \n",
      "12842          1    ai_match  \n",
      "12843          1    ai_match  \n",
      "68959          1    ai_match  \n",
      "68960          1    ai_match  \n",
      "\n",
      "[76198 rows x 5 columns]\n"
     ]
    }
   ],
   "source": [
    "#The CryptoKnights database has a table called \"replay_data\" that records information about each round of CryptoKnights battles in a best of 3 round game. \n",
    "#The 'replay_data' table includes the 'player_id', 'round', 'created_at(timestamp)', 'replay_type', 'round_win' data. \n",
    "#The CryptoKnights game has 3 game modes. \"Player vs. Player\", \"AI vs. Player\", and \"Custom_game\". Before reading the data into this notebook I used SQL and the Cassandra database to split the information into 3 seperate tables so each game type could be analyzed individually.\n",
    "\n",
    "# add all necessary packages \n",
    "# read in data from .csv files\n",
    "\n",
    "import pandas as pd\n",
    "import matplotlib as plt\n",
    "from matplotlib import pyplot as plt\n",
    "\n",
    "replay_ai= pd.read_csv('replay_data_ai_match.csv')\n",
    "replay_ai = replay_ai.sort_values('created_at')\n",
    "replay_pvp = pd.read_csv('replay_data_pvp.csv')\n",
    "replay_pvp = replay_pvp.sort_values('created_at')\n",
    "replay_custom = pd.read_csv('replay_data_custom_match.csv')\n",
    "replay_custom = replay_custom.sort_values('created_at')\n",
    "\n",
    "#heres an idea of what the origional data tables look like.\n",
    "print(replay_ai)"
   ]
  },
  {
   "cell_type": "code",
   "execution_count": 2,
   "id": "90b883f7-4ccf-48dd-ae42-8a05f8dfdb2f",
   "metadata": {},
   "outputs": [
    {
     "name": "stdout",
     "output_type": "stream",
     "text": [
      "day             490\n",
      "created_at    19279\n",
      "dtype: int64\n",
      "day             496\n",
      "created_at    10248\n",
      "dtype: int64\n",
      "day            276\n",
      "created_at    4132\n",
      "dtype: int64\n"
     ]
    }
   ],
   "source": [
    "#replay_ai analysis\n",
    "\n",
    "\n",
    "#In the origional replay_data table the round column uses the values 0, 1, and 2 to signify rounds 1,2 and 3 in a best of 3 round CryptoKnights battle.\n",
    "#Our analysis was not interested in the number of rounds being played but the total number of games. Therefore we filtered the data for only rows with the round column equal to 0s.  \n",
    "#This is because every battle, no matter how many rounds, must have a round 0. Therefore we can use these rows to measure the total number of games played. \n",
    "#In Certain CryptoKnights matches, where one player forfeits, autimatically awards the remaining player with a '2' in the 'round_win' column.  We are more interested in looking at data for nonforfeited game so I filtered those rows out as well.   \n",
    "replay_ai_gamecount = replay_ai[(replay_ai['round']== 0) & (replay_ai['round_win']!= 2)].copy()\n",
    "\n",
    "#add day, week, month columns to table \n",
    "replay_ai_gamecount['day'] = pd.to_datetime(replay_ai_gamecount['created_at']).dt.day \n",
    "replay_ai_gamecount['week'] = pd.to_datetime(replay_ai_gamecount['created_at']).dt.isocalendar().week \n",
    "replay_ai_gamecount['month'] = pd.to_datetime(replay_ai_gamecount['created_at']).dt.month \n",
    "\n",
    "#Seperate data by month(7=july, 8=august, 9=september in the month column) and count the number of games perday of the month.\n",
    "replay_ai_july = replay_ai_gamecount[replay_ai_gamecount['month']==7].copy()\n",
    "daily_aigames_july = replay_ai_july.groupby('day')['created_at'].count().reset_index()\n",
    "#calculate total ai_games in july\n",
    "print(daily_aigames_july.sum())\n",
    "\n",
    "replay_ai_august = replay_ai_gamecount[replay_ai_gamecount['month']==8].copy()\n",
    "daily_aigames_august = replay_ai_august.groupby('day')['created_at'].count().reset_index()\n",
    "#calculate total ai_games in august\n",
    "print(daily_aigames_august.sum())\n",
    "\n",
    "replay_ai_september = replay_ai_gamecount[replay_ai_gamecount['month']==9].copy()\n",
    "daily_aigames_september = replay_ai_september.groupby('day')['created_at'].count().reset_index()\n",
    "#calculate total ai_games in september\n",
    "print(daily_aigames_september.sum())"
   ]
  },
  {
   "cell_type": "code",
   "execution_count": 3,
   "id": "f845741e-186e-4a00-93d8-464641de49ba",
   "metadata": {},
   "outputs": [
    {
     "data": {
      "image/png": "[encoded data removed]",
      "text/plain": [
       "<Figure size 432x288 with 1 Axes>"
      ]
     },
     "metadata": {
      "needs_background": "light"
     },
     "output_type": "display_data"
    },
    {
     "data": {
      "image/png": "[encoded data removed]",
      "text/plain": [
       "<Figure size 432x288 with 1 Axes>"
      ]
     },
     "metadata": {
      "needs_background": "light"
     },
     "output_type": "display_data"
    },
    {
     "data": {
      "image/png": "[encoded data removed]",
      "text/plain": [
       "<Figure size 432x288 with 1 Axes>"
      ]
     },
     "metadata": {
      "needs_background": "light"
     },
     "output_type": "display_data"
    }
   ],
   "source": [
    "#graph ai games data\n",
    "plt.bar(daily_aigames_july['day'], daily_aigames_july['created_at'])\n",
    "plt.title('AI Matches per Day (July)')\n",
    "plt.xlabel('Day')\n",
    "plt.xlim (0, 32)\n",
    "plt.ylabel('Games')\n",
    "plt.ylim (0, 2000)\n",
    "plt.show()\n",
    "\n",
    "plt.bar(daily_aigames_august['day'], daily_aigames_august['created_at'])\n",
    "plt.title('AI Matches per Day (Aug)')\n",
    "plt.xlabel('Day')\n",
    "plt.xlim (0, 32)\n",
    "plt.ylabel('Games')\n",
    "plt.ylim (0, 2000)\n",
    "plt.show()\n",
    "\n",
    "plt.bar(daily_aigames_september['day'], daily_aigames_september['created_at'])\n",
    "plt.title('AI Matches per Day (Sept)')\n",
    "plt.xlabel('Day')\n",
    "plt.xlim (0, 32)\n",
    "plt.ylabel('Games')\n",
    "plt.ylim (0, 2000)\n",
    "plt.show()"
   ]
  },
  {
   "cell_type": "code",
   "execution_count": 4,
   "id": "092c39ea-e5b1-4248-aa53-b97e77eaa6d2",
   "metadata": {},
   "outputs": [
    {
     "name": "stdout",
     "output_type": "stream",
     "text": [
      "day            486.0\n",
      "created_at    2101.0\n",
      "games         1050.5\n",
      "dtype: float64\n",
      "day           472.0\n",
      "created_at    619.0\n",
      "games         309.5\n",
      "dtype: float64\n",
      "day           118.0\n",
      "created_at    121.0\n",
      "games          60.5\n",
      "dtype: float64\n"
     ]
    }
   ],
   "source": [
    "#replay_pvp analysis\n",
    "\n",
    "#filtered the data for only rows with the 'round' column value equal to 0s.  \n",
    "#Filtered for 'round_win' column values not equal to 2.  \n",
    "replay_pvp_games = replay_pvp[(replay_pvp['round']==0) & (replay_pvp['round_win']!=2)].copy()\n",
    "\n",
    "#add day, week, month columns to table \n",
    "replay_pvp_games['day'] = pd.to_datetime(replay_pvp_games['created_at']).dt.day \n",
    "replay_pvp_games['week'] = pd.to_datetime(replay_pvp_games['created_at']).dt.isocalendar().week \n",
    "replay_pvp_games['month'] = pd.to_datetime(replay_pvp_games['created_at']).dt.month \n",
    "\n",
    "#Seperate data by month\n",
    "replay_pvp_july = replay_pvp_games[replay_pvp_games['month']==7].copy()\n",
    "daily_pvpgames_july = replay_pvp_july.groupby('day')['created_at'].count().reset_index()\n",
    "#divide total logs by 2 as pvp has 2 players each \n",
    "daily_pvpgames_july['games'] = daily_pvpgames_july['created_at']/2\n",
    "#calculate total pvp games in july\n",
    "print(daily_pvpgames_july.sum())\n",
    "\n",
    "replay_pvp_august = replay_pvp_games[replay_pvp_games['month']==8].copy()\n",
    "daily_pvpgames_august = replay_pvp_august.groupby('day')['created_at'].count().reset_index()\n",
    "#divide total logs by 2 as pvp has 2 players each \n",
    "daily_pvpgames_august['games'] = daily_pvpgames_august['created_at']/2\n",
    "#calculate total pvp games in august\n",
    "print(daily_pvpgames_august.sum())\n",
    "\n",
    "replay_pvp_september = replay_pvp_games[replay_pvp_games['month']==9].copy()\n",
    "daily_pvpgames_september = replay_pvp_september.groupby('day')['created_at'].count().reset_index()\n",
    "#divide total logs by 2 as pvp has 2 players each \n",
    "daily_pvpgames_september['games'] = daily_pvpgames_september['created_at']/2\n",
    "#calculate total pvp games in september\n",
    "print(daily_pvpgames_september.sum())"
   ]
  },
  {
   "cell_type": "code",
   "execution_count": 5,
   "id": "773c8d66-1487-442f-b03d-a4a01c5eacd0",
   "metadata": {},
   "outputs": [
    {
     "data": {
      "image/png": "[encoded data removed]",
      "text/plain": [
       "<Figure size 432x288 with 1 Axes>"
      ]
     },
     "metadata": {
      "needs_background": "light"
     },
     "output_type": "display_data"
    },
    {
     "data": {
      "image/png": "[encoded data removed]",
      "text/plain": [
       "<Figure size 432x288 with 1 Axes>"
      ]
     },
     "metadata": {
      "needs_background": "light"
     },
     "output_type": "display_data"
    },
    {
     "data": {
      "image/png": "[encoded data removed]",
      "text/plain": [
       "<Figure size 432x288 with 1 Axes>"
      ]
     },
     "metadata": {
      "needs_background": "light"
     },
     "output_type": "display_data"
    }
   ],
   "source": [
    "#graph pvp game data \n",
    "plt.bar(daily_pvpgames_july['day'], daily_pvpgames_july['games'])\n",
    "plt.title('PvP Matches per Day (July)')\n",
    "plt.xlabel('Day')\n",
    "plt.xlim (0, 32)\n",
    "plt.ylabel('Games')\n",
    "plt.ylim (0, 100)\n",
    "plt.show()\n",
    "\n",
    "plt.bar(daily_pvpgames_august['day'], daily_pvpgames_august['games'])\n",
    "plt.title('PvP Matches per Day (Aug)')\n",
    "plt.xlabel('Day')\n",
    "plt.xlim (0, 32)\n",
    "plt.ylabel('Games')\n",
    "plt.ylim (0, 100)\n",
    "plt.show()\n",
    "\n",
    "plt.bar(daily_pvpgames_september['day'], daily_pvpgames_september['games'])\n",
    "plt.title('PvP Matches per Day (Sept)')\n",
    "plt.xlabel('Day')\n",
    "plt.xlim (0, 32)\n",
    "plt.ylabel('Games')\n",
    "plt.ylim (0, 100)\n",
    "plt.show()"
   ]
  },
  {
   "cell_type": "code",
   "execution_count": 6,
   "id": "f1ec8c2f-a3fb-4351-97ff-dbc9cf7d80b5",
   "metadata": {},
   "outputs": [
    {
     "name": "stdout",
     "output_type": "stream",
     "text": [
      "day            391.0\n",
      "created_at    1433.0\n",
      "games          716.5\n",
      "dtype: float64\n",
      "day           438.0\n",
      "created_at    610.0\n",
      "games         305.0\n",
      "dtype: float64\n",
      "day            75.0\n",
      "created_at    224.0\n",
      "games         112.0\n",
      "dtype: float64\n"
     ]
    }
   ],
   "source": [
    "#replay_custom analysis\n",
    "\n",
    "#filtered the data for only rows with the 'round' column value equal to 0s.  \n",
    "#Filtered for 'round_win' column values not equal to 2.  \n",
    "replay_custom_games = replay_custom[(replay_custom['round']== 0) & (replay_custom['round_win']!=2)].copy()\n",
    "\n",
    "#add day, week, month rows to table \n",
    "replay_custom_games['day'] = pd.to_datetime(replay_custom_games['created_at']).dt.day \n",
    "replay_custom_games['week'] = pd.to_datetime(replay_custom_games['created_at']).dt.isocalendar().week \n",
    "replay_custom_games['month'] = pd.to_datetime(replay_custom_games['created_at']).dt.month \n",
    "\n",
    "#seperate tables for each month\n",
    "replay_custom_july = replay_custom_games[replay_custom_games['month']==7]\n",
    "daily_custom_july = replay_custom_july.groupby('day')['created_at'].count().reset_index()\n",
    "#divide total logs by 2 as pvp has 2 players each \n",
    "daily_custom_july['games'] = daily_custom_july['created_at']/2\n",
    "#calculate total custom games in july\n",
    "print(daily_custom_july.sum())\n",
    "\n",
    "replay_custom_august = replay_custom_games[replay_custom_games['month']==8]\n",
    "daily_custom_august = replay_custom_august.groupby('day')['created_at'].count().reset_index()\n",
    "#divide total logs by 2 as pvp has 2 players each \n",
    "daily_custom_august['games'] = daily_custom_august['created_at']/2\n",
    "#calculate total custom games in aug\n",
    "print(daily_custom_august.sum())\n",
    "\n",
    "replay_custom_september = replay_custom_games[replay_custom_games['month']==9]\n",
    "daily_custom_september = replay_custom_september.groupby('day')['created_at'].count().reset_index()\n",
    "#divide total logs by 2 as pvp has 2 players each \n",
    "daily_custom_september['games'] = daily_custom_september['created_at']/2\n",
    "#calculate total custom games in sept\n",
    "print(daily_custom_september.sum())"
   ]
  },
  {
   "cell_type": "code",
   "execution_count": 7,
   "id": "0b590dcd-1212-4426-9991-8bf135526f11",
   "metadata": {},
   "outputs": [
    {
     "data": {
      "image/png": "[encoded data removed]",
      "text/plain": [
       "<Figure size 432x288 with 1 Axes>"
      ]
     },
     "metadata": {
      "needs_background": "light"
     },
     "output_type": "display_data"
    },
    {
     "data": {
      "image/png": "[encoded data removed]",
      "text/plain": [
       "<Figure size 432x288 with 1 Axes>"
      ]
     },
     "metadata": {
      "needs_background": "light"
     },
     "output_type": "display_data"
    },
    {
     "data": {
      "image/png": "[encoded data removed]",
      "text/plain": [
       "<Figure size 432x288 with 1 Axes>"
      ]
     },
     "metadata": {
      "needs_background": "light"
     },
     "output_type": "display_data"
    }
   ],
   "source": [
    "#graph custom game data\n",
    "plt.bar(daily_custom_july['day'], daily_custom_july['games'])\n",
    "plt.title('Custom Matches per Day (July)')\n",
    "plt.xlabel('Day')\n",
    "plt.xlim (0,32)\n",
    "plt.ylabel('Games')\n",
    "plt.ylim (0,65)\n",
    "plt.show()\n",
    "\n",
    "plt.bar(daily_custom_august['day'], daily_custom_august['games'])\n",
    "plt.title('Custom Matches per Day (Aug)')\n",
    "plt.xlabel('Day')\n",
    "plt.xlim (0,32)\n",
    "plt.ylabel('Games')\n",
    "plt.ylim (0,65)\n",
    "plt.show()\n",
    "\n",
    "plt.bar(daily_custom_september['day'], daily_custom_september['games'])\n",
    "plt.title('Custom Matches per Day (Sept)')\n",
    "plt.xlabel('Day')\n",
    "plt.xlim (0,32)\n",
    "plt.ylabel('Games')\n",
    "plt.ylim (0,65)\n",
    "plt.show()"
   ]
  },
  {
   "cell_type": "code",
   "execution_count": 8,
   "id": "423a5e0c-ea4b-4ce6-9031-ced4ea8165e4",
   "metadata": {},
   "outputs": [
    {
     "name": "stdout",
     "output_type": "stream",
     "text": [
      "573\n",
      "230\n",
      "106\n"
     ]
    }
   ],
   "source": [
    "#here ill count the numbet of distinct User_ids login for each months AI_matches.  This was accomplished by grouping the data based on player_id then counting all grouped player_ids. \n",
    "\n",
    "#for ai_matches july\n",
    "distinct_player_ai_july = (replay_ai_gamecount[replay_ai_gamecount['month'] == 7]).copy()\n",
    "distinct_player_ai_july = distinct_player_ai_july.groupby('player_id')['round'].count()\n",
    "#count total unique player_ids for ai games in july\n",
    "print(distinct_player_ai_july.count())\n",
    "\n",
    "#for ai_matches august\n",
    "distinct_player_ai_aug = (replay_ai_gamecount[replay_ai_gamecount['month'] == 8]).copy()\n",
    "distinct_player_ai_aug = distinct_player_ai_aug.groupby('player_id')['round'].count()\n",
    "#count total unique player_ids for ai games in aug\n",
    "print(distinct_player_ai_aug.count())\n",
    "\n",
    "#for ai_matches september\n",
    "distinct_player_ai_sept = (replay_ai_gamecount[replay_ai_gamecount['month'] == 9]).copy()\n",
    "distinct_player_ai_sept = distinct_player_ai_sept.groupby('player_id')['round'].count()\n",
    "#count total unique player_ids for ai games in sept\n",
    "print(distinct_player_ai_sept.count())\n"
   ]
  },
  {
   "cell_type": "code",
   "execution_count": 9,
   "id": "8bbc9003-18d9-4f9a-8667-c20d54a1b64b",
   "metadata": {},
   "outputs": [
    {
     "name": "stdout",
     "output_type": "stream",
     "text": [
      "346\n",
      "126\n",
      "47\n"
     ]
    }
   ],
   "source": [
    "#here ill count the numbet of distinct User_ids login for each months Pvp matches \n",
    "#for pvp_matches july\n",
    "\n",
    "distinct_player_pvp_july = (replay_pvp_games[replay_pvp_games['month'] == 7]).copy()\n",
    "distinct_player_pvp_july = distinct_player_pvp_july.groupby('player_id')['round'].count()\n",
    "#count total unique player_ids for pvp games in july\n",
    "print(distinct_player_pvp_july.count())\n",
    "\n",
    "#for pvp_matches aug\n",
    "distinct_player_pvp_aug = (replay_pvp_games[replay_pvp_games['month'] == 8]).copy()\n",
    "distinct_player_pvp_aug = distinct_player_pvp_aug.groupby('player_id')['round'].count()\n",
    "#count total unique player_ids for pvp games in aug\n",
    "print(distinct_player_pvp_aug.count())\n",
    "\n",
    "#for pvp_matches aug\n",
    "distinct_player_pvp_sept = (replay_pvp_games[replay_pvp_games['month'] == 9]).copy()\n",
    "distinct_player_pvp_sept = distinct_player_pvp_sept.groupby('player_id')['round'].count()\n",
    "#count total unique player_ids for pvp games in sept\n",
    "print(distinct_player_pvp_sept.count())"
   ]
  },
  {
   "cell_type": "code",
   "execution_count": 10,
   "id": "7f92661c-3cdb-463a-ab9b-222582f3185f",
   "metadata": {},
   "outputs": [
    {
     "name": "stdout",
     "output_type": "stream",
     "text": [
      "47\n",
      "126\n",
      "47\n"
     ]
    }
   ],
   "source": [
    "#here ill count the number of distinct player_ids for each months custom_matches \n",
    "\n",
    "#july\n",
    "distinct_player_custom_july = (replay_custom_games[replay_custom_games['month'] == 7]).copy()\n",
    "distinct_player_custom_july = distinct_player_custom_july.groupby('player_id')['round'].count()\n",
    "#count total unique player_ids for custom games in july\n",
    "print(distinct_player_pvp_sept.count())\n",
    "\n",
    "#august\n",
    "distinct_player_custom_aug = (replay_custom_games[replay_custom_games['month'] == 8]).copy()\n",
    "distinct_player_custom_aug = distinct_player_custom_aug.groupby('player_id')['round'].count()\n",
    "#count total unique player_ids for custom games in aug\n",
    "print(distinct_player_pvp_aug.count())\n",
    "\n",
    "#sept\n",
    "distinct_player_custom_sept = (replay_custom_games[replay_custom_games['month'] == 9]).copy()\n",
    "distinct_player_custom_sept = distinct_player_custom_sept.groupby('player_id')['round'].count()\n",
    "#count total unique player_ids for custom games in sept\n",
    "print(distinct_player_pvp_sept.count())"
   ]
  },
  {
   "cell_type": "code",
   "execution_count": null,
   "id": "2f062235-eb5b-4b7d-bcb3-9fb9d3d0dae7",
   "metadata": {},
   "outputs": [],
   "source": []
  }
 ],
 "metadata": {
  "kernelspec": {
   "display_name": "Python 3 (ipykernel)",
   "language": "python",
   "name": "python3"
  },
  "language_info": {
   "codemirror_mode": {
    "name": "ipython",
    "version": 3
   },
   "file_extension": ".py",
   "mimetype": "text/x-python",
   "name": "python",
   "nbconvert_exporter": "python",
   "pygments_lexer": "ipython3",
   "version": "3.9.12"
  }
 },
 "nbformat": 4,
 "nbformat_minor": 5
}
